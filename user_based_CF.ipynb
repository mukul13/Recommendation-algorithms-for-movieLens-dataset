{
 "cells": [
  {
   "cell_type": "code",
   "execution_count": 1,
   "metadata": {
    "collapsed": false
   },
   "outputs": [],
   "source": [
    "import numpy as np\n",
    "import pandas as pd"
   ]
  },
  {
   "cell_type": "code",
   "execution_count": 2,
   "metadata": {
    "collapsed": false
   },
   "outputs": [],
   "source": [
    "### To read all dataset\n",
    "user=pd.read_csv(\"u.user\",sep=\"|\",header=None)\n",
    "user.columns = [\"user_id\",\"age\" , \"gender\" , \"occupation\" , \"zip_code\"]\n",
    "\n",
    "item=pd.read_csv(\"u.item\",sep=\"|\",header=None)\n",
    "item.columns=[    \"item_id\", \"movie_title\", \"release_date\" , \"video_release_date\" ,\n",
    "             \"imdb_url\" , \"unknown\" , \"action\" , \"adventure\" , \"animation\" ,\n",
    "              \"children\" , \"comedy\" , \"crime\" ,\"documentary\" , \"drama\" , \"fantasy\" ,\n",
    "              \"film_noir\" , \"horror\" , \"musical\" , \"mystery\" , \"romance\" , \"sci_fi\" ,\n",
    "              \"thriller\" , \"war\" , \"western\"]\n",
    "\n",
    "genre=pd.read_csv(\"u.genre\",sep=\"|\",header=None)\n",
    "genre.columns = [\"genre_name\",\"genre_id\"]\n",
    "\n",
    "data=pd.read_csv(\"u.data\",sep=\"\\t\",header=None)\n",
    "data.columns=[\"user_id\" , \"item_id\", \"rating\",\"timestamp\"]"
   ]
  },
  {
   "cell_type": "code",
   "execution_count": 5,
   "metadata": {
    "collapsed": false
   },
   "outputs": [],
   "source": [
    "def similarity(v1,v2):\n",
    "    prod=v1*v2\n",
    "    a=v1*v1\n",
    "    b=v2*v2\n",
    "    return prod.sum()/(np.sqrt(a.sum())*np.sqrt(b.sum()))\n"
   ]
  },
  {
   "cell_type": "code",
   "execution_count": 22,
   "metadata": {
    "collapsed": false
   },
   "outputs": [],
   "source": [
    "vote=np.zeros((944,1683))\n",
    "#print(vote)\n",
    "\n",
    "for index, row in data.iterrows():\n",
    "    vote[row['user_id']][row['item_id']]=row['rating']\n"
   ]
  },
  {
   "cell_type": "code",
   "execution_count": 23,
   "metadata": {
    "collapsed": false
   },
   "outputs": [],
   "source": [
    "vote_mean=vote.mean(axis=1)\n",
    "\n",
    "def predict_ratings(vote1,new_user,k=10):\n",
    "    mean_new_user=new_user.mean()\n",
    "    prob=np.zeros(vote1.shape[1])\n",
    "    #print(mean_new_user)\n",
    "    for j in range(vote1.shape[1]):\n",
    "        prob[j]=mean_new_user\n",
    "        #print(prob[j])\n",
    "        temp=0\n",
    "        for i in range(vote1.shape[0]):\n",
    "            temp=temp+similarity(new_user,vote1[i,:])*(vote1[i,j]-vote1[i,:].mean())\n",
    "            \n",
    "        prob[j]=prob[j]+temp*k\n",
    "       \n",
    "    return prob\n",
    "            "
   ]
  },
  {
   "cell_type": "code",
   "execution_count": 50,
   "metadata": {
    "collapsed": false
   },
   "outputs": [],
   "source": [
    "#print(p.argsort())\n",
    "def recommend_movie(dataset,new_user,k=10):\n",
    "    #p=predict_ratings(vote[1:900,:],vote[902,:],k)\n",
    "    p=predict_ratings(dataset,new_user,k)\n",
    "    final=item.movie_title[p.argsort()].values\n",
    "    #print(item.movie_title[p.argsort()])\n",
    "    print(final[2:10])\n",
    "#print(item)"
   ]
  },
  {
   "cell_type": "code",
   "execution_count": 54,
   "metadata": {
    "collapsed": false
   },
   "outputs": [
    {
     "name": "stdout",
     "output_type": "stream",
     "text": [
      "['Kika (1993)' 'B. Monkey (1998)' 'Nightwatch (1997)'\n",
      " 'Walk in the Sun, A (1945)' 'You So Crazy (1994)' 'Favor, The (1994)'\n",
      " 'Twisted (1996)' 'Nobody Loves Me (Keiner liebt mich) (1994)']\n",
      "None\n"
     ]
    }
   ],
   "source": [
    "p=recommend_movie(vote[1:900,:],vote[903,:])\n",
    "print(p)"
   ]
  }
 ],
 "metadata": {
  "kernelspec": {
   "display_name": "Python 2",
   "language": "python",
   "name": "python2"
  },
  "language_info": {
   "codemirror_mode": {
    "name": "ipython",
    "version": 2
   },
   "file_extension": ".py",
   "mimetype": "text/x-python",
   "name": "python",
   "nbconvert_exporter": "python",
   "pygments_lexer": "ipython2",
   "version": "2.7.11"
  }
 },
 "nbformat": 4,
 "nbformat_minor": 0
}
